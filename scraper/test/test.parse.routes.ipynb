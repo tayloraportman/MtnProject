{
 "cells": [
  {
   "cell_type": "code",
   "execution_count": null,
   "metadata": {},
   "outputs": [],
   "source": [
    "import unittest\n",
    "from mtn_spider import MtnSpider\n",
    "\n",
    "class TestMtnSpider(unittest.TestCase):\n",
    "\n",
    "    def setUp(self):\n",
    "        self.spider = MtnSpider(test_mode=True)\n",
    "        self.spider.area_urls_data = []\n",
    "        self.spider.area_route_urls_data = {}\n",
    "        self.spider.route_data = []\n",
    "        self.spider.stat_data = []\n",
    "\n",
    "    def test_parse_routes(self):\n",
    "        response = self.get_mock_response()\n",
    "        self.spider.parse_routes(response)\n",
    "        self.assertEqual(self.spider.route_data[0]['climb_type'], 'Traditional')\n",
    "        self.assertEqual(self.spider.route_data[0]['climb_height_ft'], '5.6')\n",
    "        self.assertEqual(self.spider.route_data[0]['climb_height_m'], '1.7')\n",
    "        self.assertEqual(self.spider.route_data[0]['first_ascent'], 'John Doe')\n",
    "        self.assertEqual(self.spider.route_data[0]['page_views_total'], '123,456')\n",
    "        self.assertEqual(self.spider.route_data[0]['page_views_per_month'], '12,345/month')\n",
    "        self.assertEqual(self.spider.route_data[0]['gradeYDS'], '5.6')\n",
    "        self.assertEqual(self.spider.route_data[0]['gradeFont'], 'Font 5.6')\n",
    "        self.assertEqual(self.spider.route_data[0]['state_name'], 'California')\n",
    "        self.assertEqual(self.spider.route_data[0]['area_id'], '123')\n",
    "        self.assertEqual(self.spider.route_data[0]['area_name'], 'Area Name')\n",
    "        self.assertEqual(self.spider.route_data[0]['route_id'], '456')\n",
    "        self.assertEqual(self.spider.route_data[0]['route_name'], 'Route Name')\n",
    "        self.assertEqual(self.spider.stat_data[0]['route_id'], '456')\n",
    "        self.assertAlmostEquals(self.spider.stat_data[0]['avg_stars'], 4.5)\n",
    "        self.assertEqual(self.spider.stat_data[0]['num_votes'], 123)\n",
    "\n",
    "    def get_mock_response(self):\n",
    "        response = mock.MagicMock()\n",
    "        response.url = 'https://www.mountainproject.com/route/456'\n",
    "        response.meta = {'route_id': '456', 'area_name': 'Area Name', 'route_name': 'Route Name', 'area_id': '123'}\n",
    "        response.css = mock.MagicMock(return_value=['Traditional', '5.6', '1.7', 'John Doe', '123,456', '12,345/month', '5.6', 'Font 5.6'])\n",
    "        response.xpath = mock.MagicMock(return_value=['4.5', '123'])\n",
    "        return response\n",
    "\n",
    "if __name__ == '__main__':\n",
    "    unittest.main()"
   ]
  }
 ],
 "metadata": {
  "language_info": {
   "name": "python"
  },
  "orig_nbformat": 4
 },
 "nbformat": 4,
 "nbformat_minor": 2
}
